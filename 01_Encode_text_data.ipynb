{
  "nbformat": 4,
  "nbformat_minor": 0,
  "metadata": {
    "colab": {
      "provenance": []
    },
    "kernelspec": {
      "name": "python3",
      "display_name": "Python 3"
    },
    "language_info": {
      "name": "python"
    }
  },
  "cells": [
    {
      "cell_type": "markdown",
      "source": [
        "# Encode Text Data"
      ],
      "metadata": {
        "id": "GhbMgpzheMEK"
      }
    },
    {
      "cell_type": "markdown",
      "source": [
        "## 0. Introduction\n",
        "\n",
        "This notebook contains:\n",
        "  1. Convert text to word count vectors with CountVectorizer\n",
        "  2. Convert text to word frequency vectors with TfIdfVectorizer\n",
        "  3. Convert text to word unique integers with HashingVectorizer"
      ],
      "metadata": {
        "id": "5qaT5sNCeUFd"
      }
    },
    {
      "cell_type": "markdown",
      "source": [
        "## 1. Word counts with CountVectorizer"
      ],
      "metadata": {
        "id": "z1omZk9rnUIZ"
      }
    },
    {
      "cell_type": "code",
      "execution_count": 1,
      "metadata": {
        "id": "2Yf5mdM0dh7i"
      },
      "outputs": [],
      "source": [
        "import pandas as pd\n",
        "from sklearn.feature_extraction.text import CountVectorizer"
      ]
    },
    {
      "cell_type": "code",
      "source": [
        "text = ['The quick brown fox jumped over a lazy dog']\n",
        "vectorizer = CountVectorizer()\n",
        "vectorizer.fit(text)\n",
        "print(vectorizer.vocabulary_)"
      ],
      "metadata": {
        "colab": {
          "base_uri": "https://localhost:8080/"
        },
        "id": "XC_-5NkfniNM",
        "outputId": "24e04de9-8a1c-4c9f-87a4-5d6c63dcc895"
      },
      "execution_count": 3,
      "outputs": [
        {
          "output_type": "stream",
          "name": "stdout",
          "text": [
            "{'the': 7, 'quick': 6, 'brown': 0, 'fox': 2, 'jumped': 3, 'over': 5, 'lazy': 4, 'dog': 1}\n"
          ]
        }
      ]
    },
    {
      "cell_type": "code",
      "source": [
        "vector = vectorizer.transform(text)\n",
        "print(vector)"
      ],
      "metadata": {
        "colab": {
          "base_uri": "https://localhost:8080/"
        },
        "id": "zrQbjduin8T6",
        "outputId": "8cca4cc3-3017-403b-d71e-8ac9fda81b5b"
      },
      "execution_count": 4,
      "outputs": [
        {
          "output_type": "stream",
          "name": "stdout",
          "text": [
            "  (0, 0)\t1\n",
            "  (0, 1)\t1\n",
            "  (0, 2)\t1\n",
            "  (0, 3)\t1\n",
            "  (0, 4)\t1\n",
            "  (0, 5)\t1\n",
            "  (0, 6)\t1\n",
            "  (0, 7)\t1\n"
          ]
        }
      ]
    },
    {
      "cell_type": "code",
      "source": [
        "print(vector.shape)\n",
        "print(type(vector))\n",
        "print(vector.toarray())"
      ],
      "metadata": {
        "colab": {
          "base_uri": "https://localhost:8080/"
        },
        "id": "gwP4uvkyoOlG",
        "outputId": "87e60066-523e-412f-9979-9ce8b8630e27"
      },
      "execution_count": 6,
      "outputs": [
        {
          "output_type": "stream",
          "name": "stdout",
          "text": [
            "(1, 8)\n",
            "<class 'scipy.sparse._csr.csr_matrix'>\n",
            "[[1 1 1 1 1 1 1 1]]\n"
          ]
        }
      ]
    },
    {
      "cell_type": "markdown",
      "source": [
        "## 2. Word frequency with TfIdfVectorizer"
      ],
      "metadata": {
        "id": "khz2FZRLoqIM"
      }
    },
    {
      "cell_type": "code",
      "source": [
        "from sklearn.feature_extraction.text import TfidfVectorizer"
      ],
      "metadata": {
        "id": "2RQdj82ZobOD"
      },
      "execution_count": 8,
      "outputs": []
    },
    {
      "cell_type": "code",
      "source": [
        "text = ['The quick brown fox jumped over a lazy dog.',\n",
        "        'The dog.',\n",
        "        'The fox.']\n",
        "vectorizer = TfidfVectorizer()\n",
        "vectorizer.fit(text)\n",
        "print(vectorizer.vocabulary_)\n",
        "print(vectorizer.idf_)"
      ],
      "metadata": {
        "colab": {
          "base_uri": "https://localhost:8080/"
        },
        "id": "Z-67sJf9o7J7",
        "outputId": "e6e015ab-426b-4069-c05b-0d101e12f282"
      },
      "execution_count": 13,
      "outputs": [
        {
          "output_type": "stream",
          "name": "stdout",
          "text": [
            "{'the': 7, 'quick': 6, 'brown': 0, 'fox': 2, 'jumped': 3, 'over': 5, 'lazy': 4, 'dog': 1}\n",
            "[1.69314718 1.28768207 1.28768207 1.69314718 1.69314718 1.69314718\n",
            " 1.69314718 1.        ]\n"
          ]
        }
      ]
    },
    {
      "cell_type": "code",
      "source": [
        "vector = vectorizer.transform([text[0]])\n",
        "print(vector)"
      ],
      "metadata": {
        "colab": {
          "base_uri": "https://localhost:8080/"
        },
        "id": "0BOrgkRypPjs",
        "outputId": "49eb3f72-23ac-43b2-eec8-1d71e9efb1f3"
      },
      "execution_count": 17,
      "outputs": [
        {
          "output_type": "stream",
          "name": "stdout",
          "text": [
            "  (0, 7)\t0.23155850231624595\n",
            "  (0, 6)\t0.3920626253314354\n",
            "  (0, 5)\t0.3920626253314354\n",
            "  (0, 4)\t0.3920626253314354\n",
            "  (0, 3)\t0.3920626253314354\n",
            "  (0, 2)\t0.298173732156414\n",
            "  (0, 1)\t0.298173732156414\n",
            "  (0, 0)\t0.3920626253314354\n"
          ]
        }
      ]
    },
    {
      "cell_type": "code",
      "source": [
        "print(vector.shape)\n",
        "print(type(vector))\n",
        "print(vector.toarray())"
      ],
      "metadata": {
        "colab": {
          "base_uri": "https://localhost:8080/"
        },
        "id": "FiD8NciQqhi8",
        "outputId": "c99fdf11-6e24-442a-b88d-7eddb3e64f00"
      },
      "execution_count": 18,
      "outputs": [
        {
          "output_type": "stream",
          "name": "stdout",
          "text": [
            "(1, 8)\n",
            "<class 'scipy.sparse._csr.csr_matrix'>\n",
            "[[0.39206263 0.29817373 0.29817373 0.39206263 0.39206263 0.39206263\n",
            "  0.39206263 0.2315585 ]]\n"
          ]
        }
      ]
    },
    {
      "cell_type": "markdown",
      "source": [
        "## 3. Hashing with HashingVectorizer"
      ],
      "metadata": {
        "id": "Qj8UTlTWq0hh"
      }
    },
    {
      "cell_type": "code",
      "source": [
        "from sklearn.feature_extraction.text import HashingVectorizer"
      ],
      "metadata": {
        "id": "nO-uo_jfqxQ8"
      },
      "execution_count": 19,
      "outputs": []
    },
    {
      "cell_type": "code",
      "source": [
        "text = ['The quick brown fox jumped over a lazy dog.']\n",
        "vectorizer = HashingVectorizer(n_features=20)\n",
        "vector = vectorizer.transform(text)\n",
        "print(vector.shape)\n",
        "print(type(vector))\n",
        "print(vector.toarray())"
      ],
      "metadata": {
        "colab": {
          "base_uri": "https://localhost:8080/"
        },
        "id": "B8QbDKWwt3x8",
        "outputId": "22f2c710-038b-45af-a3ab-31448c9366f9"
      },
      "execution_count": 20,
      "outputs": [
        {
          "output_type": "stream",
          "name": "stdout",
          "text": [
            "(1, 20)\n",
            "<class 'scipy.sparse._csr.csr_matrix'>\n",
            "[[ 0.          0.          0.          0.          0.          0.40824829\n",
            "   0.         -0.40824829  0.40824829  0.          0.          0.40824829\n",
            "   0.          0.          0.         -0.40824829  0.          0.\n",
            "  -0.40824829  0.        ]]\n"
          ]
        }
      ]
    },
    {
      "cell_type": "code",
      "source": [],
      "metadata": {
        "id": "JHufdwHluUPF"
      },
      "execution_count": null,
      "outputs": []
    }
  ]
}